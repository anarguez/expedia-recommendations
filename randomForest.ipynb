{
 "cells": [
  {
   "cell_type": "code",
   "execution_count": 0,
   "metadata": {
    "colab": {
     "base_uri": "https://localhost:8080/",
     "height": 50
    },
    "colab_type": "code",
    "id": "4AAbNDzRA8tJ",
    "outputId": "02a9e1dd-90d7-4cc3-8cb9-26000093fc45"
   },
   "outputs": [
    {
     "name": "stderr",
     "output_type": "stream",
     "text": [
      "/usr/local/lib/python3.6/dist-packages/statsmodels/tools/_testing.py:19: FutureWarning: pandas.util.testing is deprecated. Use the functions in the public API at pandas.testing instead.\n",
      "  import pandas.util.testing as tm\n"
     ]
    }
   ],
   "source": [
    "import pandas as pd\n",
    "import matplotlib.pyplot as plt \n",
    "import numpy as np\n",
    "import sklearn\n",
    "from sklearn import metrics\n",
    "\n",
    "from sklearn.model_selection import train_test_split\n",
    "from sklearn.ensemble import RandomForestClassifier"
   ]
  },
  {
   "cell_type": "code",
   "execution_count": 0,
   "metadata": {
    "colab": {},
    "colab_type": "code",
    "id": "JRyk39E77uGW"
   },
   "outputs": [],
   "source": [
    "# data for 1%\n",
    "data = pd.read_csv(base_dir + \"1_training_final.csv\")\n",
    "data.info()"
   ]
  },
  {
   "cell_type": "code",
   "execution_count": 0,
   "metadata": {
    "colab": {
     "base_uri": "https://localhost:8080/",
     "height": 50
    },
    "colab_type": "code",
    "id": "J9DXwclzg8Ai",
    "outputId": "039b1274-796b-4f53-98f5-135c8314d2a8"
   },
   "outputs": [
    {
     "name": "stdout",
     "output_type": "stream",
     "text": [
      "Test shape  (752445, 67)\n",
      "(3009778, 67)\n"
     ]
    }
   ],
   "source": [
    "train, test = sklearn.model_selection.train_test_split(data, train_size=0.8, test_size=0.2)"
   ]
  },
  {
   "cell_type": "code",
   "execution_count": 0,
   "metadata": {
    "colab": {},
    "colab_type": "code",
    "id": "MTnq_j1MaI2C"
   },
   "outputs": [],
   "source": [
    "train.to_csv(base_dir + \"1_train_set.csv\", index=False)\n",
    "test.to_csv(base_dir + \"1_test_set.csv\", index=False)"
   ]
  },
  {
   "cell_type": "markdown",
   "metadata": {
    "colab_type": "text",
    "id": "-Sx3BM_S0xJ4"
   },
   "source": [
    "## Random Forest Classifier"
   ]
  },
  {
   "cell_type": "code",
   "execution_count": 1,
   "metadata": {
    "colab": {
     "base_uri": "https://localhost:8080/",
     "height": 33
    },
    "colab_type": "code",
    "id": "z9mUTKX77Q6w",
    "outputId": "34151cc3-d583-484a-d804-8d0efb81e592"
   },
   "outputs": [],
   "source": [
    "# Train and test set for 1% of the data\n",
    "chunksize1 = 10000\n",
    "train = pd.read_csv(base_dir + \"/1percent/\" + \"1_train_set_RF.csv\", chunksize= chunksize1)\n",
    "test = pd.read_csv(base_dir + \"/1percent/\" + \"1_test_set_RF.csv\")\n",
    "\n",
    "y_test = test.hotel_cluster\n",
    "X_test = test.drop(columns=[\"hotel_cluster\"])"
   ]
  },
  {
   "cell_type": "code",
   "execution_count": 0,
   "metadata": {
    "colab": {},
    "colab_type": "code",
    "id": "sbyIzCPn1ghj"
   },
   "outputs": [],
   "source": [
    "# GridSearch to find optimal parameters\n",
    "\n",
    "rf = RandomForestClassifier()\n",
    "from sklearn.model_selection import GridSearchCV\n",
    "# Create the parameter grid \n",
    "param_grid = {\n",
    "    'bootstrap': [True],\n",
    "    'max_depth': [80, 90, 100, 150, 200],\n",
    "    'max_features': [2, 3, 4],\n",
    "    'min_samples_leaf': [3, 4, 5],\n",
    "    'min_samples_split': [8, 10, 11, 12],\n",
    "    'n_estimators': [200, 300, 1000, 1500, 2000]\n",
    "}\n",
    "\n",
    "# Instantiate the grid search model\n",
    "grid_search = GridSearchCV(estimator = rf, param_grid = param_grid, \n",
    "                          cv = 2, verbose = 2)\n",
    "\n",
    "# Fit the grid search to the data (by chunks)\n",
    "count1 = 0\n",
    "for chunk in train:\n",
    "    y = chunk.hotel_cluster\n",
    "    x = chunk.drop(columns=[\"hotel_cluster\"])\n",
    "    grid_search.fit(x, y)\n",
    "    count1 = count1 + chunksize1\n",
    "    print('%d rows trained' % count)\n",
    "\n"
   ]
  },
  {
   "cell_type": "code",
   "execution_count": 0,
   "metadata": {
    "colab": {
     "base_uri": "https://localhost:8080/",
     "height": 124
    },
    "colab_type": "code",
    "id": "CtlfYzsz1B3f",
    "outputId": "1e746a76-41bc-4db3-ac59-21311cb9d35c"
   },
   "outputs": [
    {
     "data": {
      "text/plain": [
       "{'bootstrap': True,\n",
       " 'max_depth': 200,\n",
       " 'max_features': 4,\n",
       " 'min_samples_leaf': 4,\n",
       " 'min_samples_split': 11,\n",
       " 'n_estimators': 1500}"
      ]
     },
     "execution_count": 45,
     "metadata": {
      "tags": []
     },
     "output_type": "execute_result"
    }
   ],
   "source": [
    "grid_search.best_params_"
   ]
  },
  {
   "cell_type": "code",
   "execution_count": 2,
   "metadata": {
    "colab": {
     "base_uri": "https://localhost:8080/",
     "height": 267
    },
    "colab_type": "code",
    "id": "-Jzrx1hPiySy",
    "outputId": "5ceaa0b9-6782-4970-fc0e-eb2b621eaafd"
   },
   "outputs": [],
   "source": [
    "# Define model and train RF\n",
    "clf = RandomForestClassifier(n_estimators=1500, max_depth=200, max_features=4, min_samples_leaf=4, min_samples_split=11, bootstrap=True)\n",
    "count = 0\n",
    "\n",
    "for chunk in train:\n",
    "    y = chunk.hotel_cluster\n",
    "    x = chunk.drop(columns=[\"hotel_cluster\"])\n",
    "    clf.fit(x, y)\n",
    "    count = count + chunksize1\n",
    "    print('%d rows trained' % count)"
   ]
  },
  {
   "cell_type": "code",
   "execution_count": 3,
   "metadata": {
    "colab": {
     "base_uri": "https://localhost:8080/",
     "height": 33
    },
    "colab_type": "code",
    "id": "jrxEaUbhmC3_",
    "outputId": "0aa950c1-8c1e-4c52-a95a-7969b350bc05"
   },
   "outputs": [],
   "source": [
    "# Predict class probabilities\n",
    "pred = clf.predict_proba(X_test)"
   ]
  },
  {
   "cell_type": "code",
   "execution_count": null,
   "metadata": {},
   "outputs": [],
   "source": [
    "# function to measure performance MAP@5\n",
    "def map5eva(preds, actual):\n",
    "    predicted = preds.argsort(axis=1)[:, -np.arange(5)]\n",
    "    metric = 0\n",
    "    for i in range(5):\n",
    "        metric += np.sum(actual==predicted[:, i])/(i+1)\n",
    "    metric /= actual.shape[0]\n",
    "    return \"MAP@5\", -metric"
   ]
  },
  {
   "cell_type": "code",
   "execution_count": 4,
   "metadata": {
    "colab": {
     "base_uri": "https://localhost:8080/",
     "height": 33
    },
    "colab_type": "code",
    "id": "2W45P4Q8uVOH",
    "outputId": "7ac06d31-4a5d-431f-e831-f7fd80b5ab41"
   },
   "outputs": [],
   "source": [
    "map5eva(pred, y_test)"
   ]
  }
 ],
 "metadata": {
  "colab": {
   "collapsed_sections": [],
   "machine_shape": "hm",
   "name": "randomForest.ipynb",
   "provenance": []
  },
  "kernelspec": {
   "display_name": "Python 3",
   "language": "python",
   "name": "python3"
  },
  "language_info": {
   "codemirror_mode": {
    "name": "ipython",
    "version": 3
   },
   "file_extension": ".py",
   "mimetype": "text/x-python",
   "name": "python",
   "nbconvert_exporter": "python",
   "pygments_lexer": "ipython3",
   "version": "3.7.4"
  }
 },
 "nbformat": 4,
 "nbformat_minor": 1
}
