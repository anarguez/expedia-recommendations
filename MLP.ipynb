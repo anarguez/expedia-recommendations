{
  "nbformat": 4,
  "nbformat_minor": 0,
  "metadata": {
    "kernelspec": {
      "display_name": "Python 3",
      "language": "python",
      "name": "python3"
    },
    "language_info": {
      "codemirror_mode": {
        "name": "ipython",
        "version": 3
      },
      "file_extension": ".py",
      "mimetype": "text/x-python",
      "name": "python",
      "nbconvert_exporter": "python",
      "pygments_lexer": "ipython3",
      "version": "3.6.9"
    },
    "colab": {
      "name": "MLP",
      "provenance": [],
      "collapsed_sections": [],
      "machine_shape": "hm"
    }
  },
  "cells": [
    {
      "cell_type": "code",
      "metadata": {
        "id": "OdnTrmXMtloG",
        "colab_type": "code",
        "colab": {}
      },
      "source": [
        "#Import libraries\n",
        "import pandas as pd\n",
        "import numpy as np\n",
        "import os"
      ],
      "execution_count": 0,
      "outputs": []
    },
    {
      "cell_type": "code",
      "metadata": {
        "id": "XnKomGq0Z31M",
        "colab_type": "code",
        "colab": {}
      },
      "source": [
        "#seed(1)"
      ],
      "execution_count": 0,
      "outputs": []
    },
    {
      "cell_type": "code",
      "metadata": {
        "id": "Z19u2KtntxuQ",
        "colab_type": "code",
        "outputId": "b3054019-0c32-461d-aed9-4f31ef752c37",
        "colab": {
          "base_uri": "https://localhost:8080/",
          "height": 124
        }
      },
      "source": [
        "from google.colab import drive\n",
        "drive.mount('/content/drive')"
      ],
      "execution_count": 0,
      "outputs": [
        {
          "output_type": "stream",
          "text": [
            "Go to this URL in a browser: https://accounts.google.com/o/oauth2/auth?client_id=947318989803-6bn6qk8qdgf4n4g3pfee6491hc0brc4i.apps.googleusercontent.com&redirect_uri=urn%3aietf%3awg%3aoauth%3a2.0%3aoob&response_type=code&scope=email%20https%3a%2f%2fwww.googleapis.com%2fauth%2fdocs.test%20https%3a%2f%2fwww.googleapis.com%2fauth%2fdrive%20https%3a%2f%2fwww.googleapis.com%2fauth%2fdrive.photos.readonly%20https%3a%2f%2fwww.googleapis.com%2fauth%2fpeopleapi.readonly\n",
            "\n",
            "Enter your authorization code:\n",
            "··········\n",
            "Mounted at /content/drive\n"
          ],
          "name": "stdout"
        }
      ]
    },
    {
      "cell_type": "code",
      "metadata": {
        "id": "s_AH6FXpuDZH",
        "colab_type": "code",
        "colab": {}
      },
      "source": [
        "os.chdir('/content/drive/My Drive/Data Mining/ML_APPROACH/Data/10percent/')"
      ],
      "execution_count": 0,
      "outputs": []
    },
    {
      "cell_type": "code",
      "metadata": {
        "id": "kkjXOjlYtloN",
        "colab_type": "code",
        "colab": {}
      },
      "source": [
        "#Import training data\n",
        "train=pd.read_csv('1_train_set.csv')\n",
        "train.dropna(inplace=True)\n",
        "train=train.reset_index(drop=True)"
      ],
      "execution_count": 0,
      "outputs": []
    },
    {
      "cell_type": "code",
      "metadata": {
        "id": "kS3v7C1MtloQ",
        "colab_type": "code",
        "colab": {}
      },
      "source": [
        "#Import test data\n",
        "test=pd.read_csv('1_test_set.csv')\n",
        "test.dropna(inplace=True)\n",
        "test=test.reset_index(drop=True)"
      ],
      "execution_count": 0,
      "outputs": []
    },
    {
      "cell_type": "code",
      "metadata": {
        "id": "ZxYlejf_tloS",
        "colab_type": "code",
        "outputId": "21b7d3ef-0aa5-42c2-b9a8-0f02b917bbe1",
        "colab": {
          "base_uri": "https://localhost:8080/",
          "height": 260
        }
      },
      "source": [
        "train.columns"
      ],
      "execution_count": 0,
      "outputs": [
        {
          "output_type": "execute_result",
          "data": {
            "text/plain": [
              "Index(['site_name', 'posa_continent', 'user_location_country',\n",
              "       'user_location_region', 'user_location_city',\n",
              "       'orig_destination_distance', 'user_id', 'is_mobile', 'is_package',\n",
              "       'channel', 'srch_adults_cnt', 'srch_children_cnt', 'srch_rm_cnt',\n",
              "       'is_booking', 'cnt', 'hotel_continent', 'hotel_country', 'hotel_market',\n",
              "       'hotel_cluster', 'booking_month', 'booking_day', 'ci_month', 'co_month',\n",
              "       'ci_day', 'co_day', 'duration', 'remaining_days', 'is_weekend', 'dest0',\n",
              "       'dest1', 'dest2', 'dest3', 'dest4', 'dest5', 'dest6', 'dest7', 'dest8',\n",
              "       'dest9', 'dest10', 'dest11', 'dest12', 'dest13', 'dest14', 'dest15',\n",
              "       'dest16', 'dest17', 'dest18', 'dest19', 'dest20', 'dest21', 'dest22',\n",
              "       'dest23', 'dest24', 'dest25', 'dest26', 'dest27', 'dest28', 'dest29',\n",
              "       'dest30', 'dest31', 'dest32', 'dest33', 'dest34', 'dest35', 'dest36',\n",
              "       'dest37', 'dest38', 'dest39'],\n",
              "      dtype='object')"
            ]
          },
          "metadata": {
            "tags": []
          },
          "execution_count": 6
        }
      ]
    },
    {
      "cell_type": "code",
      "metadata": {
        "id": "AxpdjEtLtloX",
        "colab_type": "code",
        "colab": {}
      },
      "source": [
        "#List of categorical features\n",
        "cat_cols=['site_name', 'posa_continent', \n",
        "        'user_location_country',\n",
        "       'user_location_region', 'user_location_city',\n",
        "        'channel', 'hotel_continent', \n",
        "       'hotel_country', 'hotel_market',\n",
        "       'booking_month', 'booking_day', \n",
        "       'ci_month', 'co_month',\n",
        "       'ci_day', 'co_day']"
      ],
      "execution_count": 0,
      "outputs": []
    },
    {
      "cell_type": "code",
      "metadata": {
        "id": "MhfcQ7hTtloa",
        "colab_type": "code",
        "colab": {}
      },
      "source": [
        "#List of numerical features\n",
        "num_cols=['orig_destination_distance', 'is_mobile', 'is_package',\n",
        "       'srch_adults_cnt', 'srch_children_cnt', 'srch_rm_cnt',\n",
        "       'is_booking', 'cnt','duration', 'remaining_days', #'is_weekend', \n",
        "       'dest0',\n",
        "       'dest1', 'dest2', 'dest3', 'dest4', 'dest5', 'dest6', 'dest7', 'dest8',\n",
        "       'dest9', 'dest10', 'dest11', 'dest12', 'dest13', 'dest14', 'dest15',\n",
        "       'dest16', 'dest17', 'dest18', 'dest19', 'dest20', 'dest21', 'dest22',\n",
        "       'dest23', 'dest24', 'dest25', 'dest26', 'dest27', 'dest28', 'dest29',\n",
        "       'dest30', 'dest31', 'dest32', 'dest33', 'dest34', 'dest35', 'dest36',\n",
        "       'dest37', 'dest38', 'dest39']"
      ],
      "execution_count": 0,
      "outputs": []
    },
    {
      "cell_type": "code",
      "metadata": {
        "id": "EZ1Cbnsvtloc",
        "colab_type": "code",
        "colab": {}
      },
      "source": [
        "#Target variable for training and test sets\n",
        "y=train.hotel_cluster\n",
        "y_test_reserved=test.hotel_cluster"
      ],
      "execution_count": 0,
      "outputs": []
    },
    {
      "cell_type": "code",
      "metadata": {
        "id": "ocQZ074buigO",
        "colab_type": "code",
        "outputId": "e20da023-f2f5-4322-d4c8-3055cdaa812f",
        "colab": {
          "base_uri": "https://localhost:8080/",
          "height": 35
        }
      },
      "source": [
        "import keras"
      ],
      "execution_count": 0,
      "outputs": [
        {
          "output_type": "stream",
          "text": [
            "Using TensorFlow backend.\n"
          ],
          "name": "stderr"
        }
      ]
    },
    {
      "cell_type": "code",
      "metadata": {
        "id": "v-Xb31_6tlof",
        "colab_type": "code",
        "colab": {}
      },
      "source": [
        "y_train = keras.utils.to_categorical(y,num_classes=100)\n",
        "y_test= keras.utils.to_categorical(y_test_reserved,num_classes=100)"
      ],
      "execution_count": 0,
      "outputs": []
    },
    {
      "cell_type": "code",
      "metadata": {
        "id": "zFsE2sPstloh",
        "colab_type": "code",
        "colab": {}
      },
      "source": [
        "#Drop target from training and test sets\n",
        "train.drop(columns=['hotel_cluster','user_id'], inplace=True)\n",
        "test.drop(columns=['hotel_cluster','user_id'], inplace=True)"
      ],
      "execution_count": 0,
      "outputs": []
    },
    {
      "cell_type": "code",
      "metadata": {
        "id": "JzrS3atttloj",
        "colab_type": "code",
        "colab": {}
      },
      "source": [
        "#One hot encode categorical variables\n",
        "from sklearn.preprocessing import OneHotEncoder\n",
        "enc = OneHotEncoder(handle_unknown='ignore')"
      ],
      "execution_count": 0,
      "outputs": []
    },
    {
      "cell_type": "code",
      "metadata": {
        "id": "yKNXSGIH_uiT",
        "colab_type": "code",
        "outputId": "70a7728b-c9b5-44a2-8860-01de0174637f",
        "colab": {
          "base_uri": "https://localhost:8080/",
          "height": 52
        }
      },
      "source": [
        "enc.fit(train[cat_cols])"
      ],
      "execution_count": 0,
      "outputs": [
        {
          "output_type": "execute_result",
          "data": {
            "text/plain": [
              "OneHotEncoder(categories='auto', drop=None, dtype=<class 'numpy.float64'>,\n",
              "              handle_unknown='ignore', sparse=True)"
            ]
          },
          "metadata": {
            "tags": []
          },
          "execution_count": 15
        }
      ]
    },
    {
      "cell_type": "code",
      "metadata": {
        "id": "_F2NSemYtloo",
        "colab_type": "code",
        "colab": {}
      },
      "source": [
        "#Create sparse matrices\n",
        "from scipy.sparse import csr_matrix, hstack"
      ],
      "execution_count": 0,
      "outputs": []
    },
    {
      "cell_type": "code",
      "metadata": {
        "id": "Hadev1qKtloq",
        "colab_type": "code",
        "colab": {}
      },
      "source": [
        "XC =enc.transform(train[cat_cols])\n",
        "XN=csr_matrix(train[num_cols].values)\n",
        "X=csr_matrix(hstack((XN,XC)))"
      ],
      "execution_count": 0,
      "outputs": []
    },
    {
      "cell_type": "code",
      "metadata": {
        "id": "GIjJWq_8tlos",
        "colab_type": "code",
        "colab": {}
      },
      "source": [
        "XC_test =enc.transform(test[cat_cols])\n",
        "XN_test=csr_matrix(test[num_cols].values)\n",
        "X_test=csr_matrix(hstack((XN_test,XC_test)))"
      ],
      "execution_count": 0,
      "outputs": []
    },
    {
      "cell_type": "code",
      "metadata": {
        "id": "D6V8kHYstlou",
        "colab_type": "code",
        "colab": {}
      },
      "source": [
        "#Standardize variables\n",
        "from sklearn.preprocessing import StandardScaler"
      ],
      "execution_count": 0,
      "outputs": []
    },
    {
      "cell_type": "code",
      "metadata": {
        "id": "2Cs3370Gtloy",
        "colab_type": "code",
        "colab": {}
      },
      "source": [
        "scaler=StandardScaler(with_mean=False).fit(X)"
      ],
      "execution_count": 0,
      "outputs": []
    },
    {
      "cell_type": "code",
      "metadata": {
        "id": "WDq0AXHDtlo0",
        "colab_type": "code",
        "colab": {}
      },
      "source": [
        "X_train=scaler.transform(X)"
      ],
      "execution_count": 0,
      "outputs": []
    },
    {
      "cell_type": "code",
      "metadata": {
        "id": "gD4xwg_ltlo2",
        "colab_type": "code",
        "colab": {}
      },
      "source": [
        "X_test=scaler.transform(X_test)"
      ],
      "execution_count": 0,
      "outputs": []
    },
    {
      "cell_type": "code",
      "metadata": {
        "id": "JtekNUmaLEkY",
        "colab_type": "code",
        "outputId": "1c096d0a-2d1f-4383-88b7-2de6fda3e2f5",
        "colab": {
          "base_uri": "https://localhost:8080/",
          "height": 52
        }
      },
      "source": [
        "X_train"
      ],
      "execution_count": 0,
      "outputs": [
        {
          "output_type": "execute_result",
          "data": {
            "text/plain": [
              "<2996331x38766 sparse matrix of type '<class 'numpy.float64'>'\n",
              "\twith 184651507 stored elements in Compressed Sparse Row format>"
            ]
          },
          "metadata": {
            "tags": []
          },
          "execution_count": 23
        }
      ]
    },
    {
      "cell_type": "code",
      "metadata": {
        "id": "r9VGTQUqtlo4",
        "colab_type": "code",
        "colab": {}
      },
      "source": [
        "#Imort libraries for building MLP\n",
        "import keras\n",
        "from keras.models import Sequential\n",
        "from keras.layers import Dense, Dropout, Activation\n",
        "from keras.optimizers import SGD"
      ],
      "execution_count": 0,
      "outputs": []
    },
    {
      "cell_type": "code",
      "metadata": {
        "id": "q0_EmsDWtlo6",
        "colab_type": "code",
        "colab": {}
      },
      "source": [
        "#Build MLP\n",
        "model=Sequential()"
      ],
      "execution_count": 0,
      "outputs": []
    },
    {
      "cell_type": "code",
      "metadata": {
        "id": "EN5BLIfntlo8",
        "colab_type": "code",
        "colab": {}
      },
      "source": [
        "model.add(Dense(200, activation='relu', input_dim=38766))\n",
        "model.add(Dropout(0.5))\n",
        "model.add(Dense(100 , activation='relu'))\n",
        "model.add(Dropout(0.5))\n",
        "model.add(Dense(100, activation='softmax'))"
      ],
      "execution_count": 0,
      "outputs": []
    },
    {
      "cell_type": "code",
      "metadata": {
        "id": "OmRH2MZ_tlpB",
        "colab_type": "code",
        "colab": {}
      },
      "source": [
        "#sgd = SGD(lr=0.01, decay=1e-6, momentum=0.9, nesterov=True)"
      ],
      "execution_count": 0,
      "outputs": []
    },
    {
      "cell_type": "code",
      "metadata": {
        "id": "KiEg2s1bDYYO",
        "colab_type": "code",
        "colab": {}
      },
      "source": [
        "import time\n",
        "start=time.time()"
      ],
      "execution_count": 0,
      "outputs": []
    },
    {
      "cell_type": "code",
      "metadata": {
        "id": "Rhz6NsX9tlpE",
        "colab_type": "code",
        "colab": {}
      },
      "source": [
        "model.compile(loss='categorical_crossentropy',\n",
        "              optimizer='rmsprop',\n",
        "              metrics=['accuracy'])"
      ],
      "execution_count": 0,
      "outputs": []
    },
    {
      "cell_type": "code",
      "metadata": {
        "scrolled": true,
        "id": "v-pc07C_tlpH",
        "colab_type": "code",
        "outputId": "b58a3202-018d-4e81-dcd5-4b17f4eacaa9",
        "colab": {
          "base_uri": "https://localhost:8080/",
          "height": 381
        }
      },
      "source": [
        "MLP_model=model.fit(X_train, y_train,\n",
        "          epochs=20,\n",
        "          batch_size=10000,\n",
        "          validation_split=0.001)"
      ],
      "execution_count": 0,
      "outputs": [
        {
          "output_type": "stream",
          "text": [
            "Train on 2993334 samples, validate on 2997 samples\n",
            "Epoch 1/10\n",
            "2993334/2993334 [==============================] - 520s 174us/step - loss: 3.6872 - accuracy: 0.1095 - val_loss: 3.4429 - val_accuracy: 0.1245\n",
            "Epoch 2/10\n",
            "2993334/2993334 [==============================] - 519s 173us/step - loss: 3.5355 - accuracy: 0.1237 - val_loss: 3.4148 - val_accuracy: 0.1325\n",
            "Epoch 3/10\n",
            "2993334/2993334 [==============================] - 518s 173us/step - loss: 3.5287 - accuracy: 0.1257 - val_loss: 3.4019 - val_accuracy: 0.1355\n",
            "Epoch 4/10\n",
            "2993334/2993334 [==============================] - 520s 174us/step - loss: 3.5390 - accuracy: 0.1259 - val_loss: 3.4117 - val_accuracy: 0.1308\n",
            "Epoch 5/10\n",
            "2993334/2993334 [==============================] - 522s 174us/step - loss: 3.5574 - accuracy: 0.1255 - val_loss: 3.4126 - val_accuracy: 0.1361\n",
            "Epoch 6/10\n",
            "2993334/2993334 [==============================] - 522s 174us/step - loss: 3.5759 - accuracy: 0.1249 - val_loss: 3.4275 - val_accuracy: 0.1348\n",
            "Epoch 7/10\n",
            "2993334/2993334 [==============================] - 521s 174us/step - loss: 3.6008 - accuracy: 0.1240 - val_loss: 3.4311 - val_accuracy: 0.1311\n",
            "Epoch 8/10\n",
            "2993334/2993334 [==============================] - 521s 174us/step - loss: 3.6109 - accuracy: 0.1231 - val_loss: 3.4353 - val_accuracy: 0.1321\n",
            "Epoch 9/10\n",
            "2993334/2993334 [==============================] - 520s 174us/step - loss: 3.6290 - accuracy: 0.1221 - val_loss: 3.4537 - val_accuracy: 0.1341\n",
            "Epoch 10/10\n",
            "2993334/2993334 [==============================] - 520s 174us/step - loss: 3.6430 - accuracy: 0.1212 - val_loss: 3.4637 - val_accuracy: 0.1275\n"
          ],
          "name": "stdout"
        }
      ]
    },
    {
      "cell_type": "code",
      "metadata": {
        "id": "8B6K5lbMDg3N",
        "colab_type": "code",
        "outputId": "3b46c579-f970-4d57-f2e7-47efa258cf7c",
        "colab": {
          "base_uri": "https://localhost:8080/",
          "height": 35
        }
      },
      "source": [
        "end=time.time()\n",
        "print(end-start)\n",
        "#1 h plus 20-30 min"
      ],
      "execution_count": 0,
      "outputs": [
        {
          "output_type": "stream",
          "text": [
            "5504.040465831757\n"
          ],
          "name": "stdout"
        }
      ]
    },
    {
      "cell_type": "code",
      "metadata": {
        "id": "V8taIpWFgcON",
        "colab_type": "code",
        "colab": {}
      },
      "source": [
        "os.chdir(\"/content/drive/My Drive\")"
      ],
      "execution_count": 0,
      "outputs": []
    },
    {
      "cell_type": "code",
      "metadata": {
        "id": "5W7d5L6mfnaJ",
        "colab_type": "code",
        "outputId": "e8f9746b-60e7-47ac-831d-06278470b724",
        "colab": {
          "base_uri": "https://localhost:8080/",
          "height": 35
        }
      },
      "source": [
        "#save the model\n",
        "from sklearn.externals import joblib\n",
        "filename = 'finalized_model.sav'\n",
        "joblib.dump(MLP_model, filename)  "
      ],
      "execution_count": 0,
      "outputs": [
        {
          "output_type": "execute_result",
          "data": {
            "text/plain": [
              "['finalized_model.sav']"
            ]
          },
          "metadata": {
            "tags": []
          },
          "execution_count": 50
        }
      ]
    },
    {
      "cell_type": "code",
      "metadata": {
        "id": "WG2AE_Nuf3rN",
        "colab_type": "code",
        "colab": {}
      },
      "source": [
        "result = joblib.load(filename)"
      ],
      "execution_count": 0,
      "outputs": []
    },
    {
      "cell_type": "code",
      "metadata": {
        "scrolled": false,
        "id": "FBAk1DCftlpJ",
        "colab_type": "code",
        "outputId": "c107e58d-34bc-457a-a2af-de45a95f181f",
        "colab": {
          "base_uri": "https://localhost:8080/",
          "height": 52
        }
      },
      "source": [
        "result.model.evaluate(X_test, y_test)"
      ],
      "execution_count": 0,
      "outputs": [
        {
          "output_type": "stream",
          "text": [
            "749128/749128 [==============================] - 194s 259us/step\n"
          ],
          "name": "stdout"
        },
        {
          "output_type": "execute_result",
          "data": {
            "text/plain": [
              "[3.4464611086627097, 0.13357530534267426]"
            ]
          },
          "metadata": {
            "tags": []
          },
          "execution_count": 52
        }
      ]
    },
    {
      "cell_type": "code",
      "metadata": {
        "scrolled": true,
        "id": "YZM82R3PtlpL",
        "colab_type": "code",
        "outputId": "ba50ac69-f788-4eb4-9d9b-2ce377ec3f3b",
        "colab": {
          "base_uri": "https://localhost:8080/",
          "height": 35
        }
      },
      "source": [
        "#Make the prediction for test set\n",
        "preds=result.model.predict(X_test, verbose=1)"
      ],
      "execution_count": 0,
      "outputs": [
        {
          "output_type": "stream",
          "text": [
            "749128/749128 [==============================] - 158s 211us/step\n"
          ],
          "name": "stdout"
        }
      ]
    },
    {
      "cell_type": "code",
      "metadata": {
        "id": "WsgWW_NAyxKa",
        "colab_type": "code",
        "colab": {}
      },
      "source": [
        "#Define the function for assessing accuracy\n",
        "def map5eval(preds, actual):\n",
        "    predicted = preds.argsort(axis=1)[:,-np.arange(5)]\n",
        "    metric = 0.\n",
        "    for i in range(5):\n",
        "        metric += np.sum(actual==predicted[:,i])/(i+1)\n",
        "    metric /= actual.shape[0]\n",
        "    return 'MAP@5', metric"
      ],
      "execution_count": 0,
      "outputs": []
    },
    {
      "cell_type": "code",
      "metadata": {
        "scrolled": true,
        "id": "eGqydRZVtlpP",
        "colab_type": "code",
        "outputId": "300d4b0e-09e1-473f-9854-80833bb1fe26",
        "colab": {
          "base_uri": "https://localhost:8080/",
          "height": 35
        }
      },
      "source": [
        "map5eval(preds,y_test_reserved)"
      ],
      "execution_count": 0,
      "outputs": [
        {
          "output_type": "execute_result",
          "data": {
            "text/plain": [
              "('MAP@5', 0.1272814080726747)"
            ]
          },
          "metadata": {
            "tags": []
          },
          "execution_count": 55
        }
      ]
    },
    {
      "cell_type": "code",
      "metadata": {
        "id": "aFLqnjpxXNNm",
        "colab_type": "code",
        "colab": {}
      },
      "source": [
        "#Save probabilities for test set\n",
        "os.chdir('/content/drive/My Drive/Data Mining/ML_APPROACH/Predicted_Proba/')\n",
        "pd.DataFrame(preds).to_csv('pred_proba_MLP.csv', index=False)"
      ],
      "execution_count": 0,
      "outputs": []
    }
  ]
}