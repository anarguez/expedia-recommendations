{
 "cells": [
  {
   "cell_type": "code",
   "execution_count": 0,
   "metadata": {
    "colab": {
     "base_uri": "https://localhost:8080/",
     "height": 215
    },
    "colab_type": "code",
    "id": "6M7xaKHoB8NR",
    "outputId": "82cd1d6d-ff11-4a23-f149-38515a3746fb"
   },
   "outputs": [
    {
     "name": "stderr",
     "output_type": "stream",
     "text": [
      "/usr/local/lib/python3.6/dist-packages/statsmodels/tools/_testing.py:19: FutureWarning: pandas.util.testing is deprecated. Use the functions in the public API at pandas.testing instead.\n",
      "  import pandas.util.testing as tm\n"
     ]
    },
    {
     "name": "stdout",
     "output_type": "stream",
     "text": [
      "Collecting mixed-naive-bayes\n",
      "  Downloading https://files.pythonhosted.org/packages/7a/1f/4af788fa4df56a0aa38cbe949f3c3021ece5200a2d777adb4eddf662468d/mixed_naive_bayes-0.0.1-py3-none-any.whl\n",
      "Requirement already satisfied: numpy>=1.16.1 in /usr/local/lib/python3.6/dist-packages (from mixed-naive-bayes) (1.18.2)\n",
      "Requirement already satisfied: scikit-learn>=0.20.2 in /usr/local/lib/python3.6/dist-packages (from mixed-naive-bayes) (0.22.2.post1)\n",
      "Requirement already satisfied: scipy>=0.17.0 in /usr/local/lib/python3.6/dist-packages (from scikit-learn>=0.20.2->mixed-naive-bayes) (1.4.1)\n",
      "Requirement already satisfied: joblib>=0.11 in /usr/local/lib/python3.6/dist-packages (from scikit-learn>=0.20.2->mixed-naive-bayes) (0.14.1)\n",
      "Installing collected packages: mixed-naive-bayes\n",
      "Successfully installed mixed-naive-bayes-0.0.1\n"
     ]
    }
   ],
   "source": [
    "import pandas as pd\n",
    "import matplotlib.pyplot as plt \n",
    "import seaborn as sns\n",
    "\n",
    "import sklearn\n",
    "\n",
    "from scipy.sparse import csr_matrix, hstack\n",
    "from sklearn.naive_bayes import GaussianNB\n",
    "from sklearn.naive_bayes import MultinomialNB\n",
    "import numpy as np\n"
   ]
  },
  {
   "cell_type": "code",
   "execution_count": 0,
   "metadata": {
    "colab": {},
    "colab_type": "code",
    "id": "IxDBKcCt4KRO"
   },
   "outputs": [],
   "source": [
    "test = pd.read_csv(base_dir + \"/1percent/\" + \"1_test_set.csv\")\n",
    "train = pd.read_csv(base_dir + \"/1percent/\" + \"1_train_set.csv\")"
   ]
  },
  {
   "cell_type": "code",
   "execution_count": 0,
   "metadata": {
    "colab": {},
    "colab_type": "code",
    "id": "jTdYruGtub8U"
   },
   "outputs": [],
   "source": [
    "# drop latent destinatio features (not gonna train NB with them)\n",
    "train = train.drop(columns=train.columns[28:])\n",
    "test = test.drop(columns=test.columns[28:])"
   ]
  },
  {
   "cell_type": "code",
   "execution_count": 0,
   "metadata": {
    "colab": {},
    "colab_type": "code",
    "id": "sDhJaKRjLp9V"
   },
   "outputs": [],
   "source": [
    "y_train = train.hotel_cluster\n",
    "y_test = test.hotel_cluster\n",
    "train = train.drop(columns=[\"hotel_cluster\"])\n",
    "test = test.drop(columns=[\"hotel_cluster\"])"
   ]
  },
  {
   "cell_type": "markdown",
   "metadata": {
    "colab_type": "text",
    "id": "FE2Hb2NEbvOv"
   },
   "source": [
    "### Train two different models and combine the probabilities\n",
    "#### - Multinomial NB for the categorical features\n",
    "#### - Gaussian NB for the numerical features"
   ]
  },
  {
   "cell_type": "code",
   "execution_count": 1,
   "metadata": {
    "colab": {
     "base_uri": "https://localhost:8080/",
     "height": 70
    },
    "colab_type": "code",
    "id": "v2EiTXjfdVZ0",
    "outputId": "30b34eac-c73f-4d2d-bc9e-ce56de7d5004"
   },
   "outputs": [],
   "source": [
    "# DEFINING CATEGORICAL AND NUMERICAL FEATURES\n",
    "cat_features = [\"site_name\", \"posa_continent\", \"user_location_country\", \"user_location_region\", \"user_location_city\",\n",
    "                \"user_id\", \"is_mobile\", \"is_package\", \"channel\", \"is_booking\", \"hotel_continent\", \"hotel_country\",\n",
    "                \"hotel_market\", \"booking_month\", \"booking_day\", \"ci_month\", \"co_month\", \"ci_day\", \"co_day\", \"is_weekend\"]\n",
    "num_features = [\"orig_destination_distance\", \"srch_adults_cnt\", \"srch_children_cnt\", \"srch_rm_cnt\", \"cnt\", \"duration\", \"remaining_days\"]\n",
    "print(\"NUM CATEGORICAL FEATURES => \", len(cat_features))\n",
    "print(\"NUM NUMERICAL FEATURES => \", len(num_features))\n",
    "print(\"TOTAL => \", len(train.columns), (len(cat_features) + len(num_features)))"
   ]
  },
  {
   "cell_type": "markdown",
   "metadata": {
    "colab_type": "text",
    "id": "uQoewc9iYyj7"
   },
   "source": [
    "#### TRAINING A MULTINOMIAL NB FOR CATEGORICAL DATA"
   ]
  },
  {
   "cell_type": "code",
   "execution_count": 0,
   "metadata": {
    "colab": {},
    "colab_type": "code",
    "id": "5UeAUCbQUMD0"
   },
   "outputs": [],
   "source": [
    "# create list of categories for the encoding to have the same number of features for each set\n",
    "categories = []\n",
    "for i in cat_features:\n",
    "    categories.append(np.unique(train[i]))"
   ]
  },
  {
   "cell_type": "code",
   "execution_count": 0,
   "metadata": {
    "colab": {},
    "colab_type": "code",
    "id": "t9moGM9IPM74"
   },
   "outputs": [],
   "source": [
    "# datasets to be one hot encoded\n",
    "X_train_cat = train[cat_features]\n",
    "X_test_cat = test[cat_features]"
   ]
  },
  {
   "cell_type": "code",
   "execution_count": 0,
   "metadata": {
    "colab": {},
    "colab_type": "code",
    "id": "JVU9H20ePh19"
   },
   "outputs": [],
   "source": [
    "from sklearn.preprocessing import OneHotEncoder\n",
    "enc = OneHotEncoder(categories=categories, handle_unknown='ignore')\n",
    "X_train_cat = enc.fit_transform(X_train_cat)\n",
    "X_test_cat = enc.fit_transform(X_test_cat)\n",
    "print(X_train_cat.shape)\n",
    "print(X_test_cat.shape)"
   ]
  },
  {
   "cell_type": "code",
   "execution_count": 0,
   "metadata": {
    "colab": {},
    "colab_type": "code",
    "id": "bgIq4Bk8gfAW"
   },
   "outputs": [],
   "source": [
    "# multinomial NB 1% on categorical variables (y_train and y_test are the same for numerical and categorical)\n",
    "mnb1 = MultinomialNB()\n",
    "mnb1.fit(X_train_cat, y_train) # training the model\n",
    "pred1_mnb = mnb1.predict_proba(X_test_cat) # predicting probabilities"
   ]
  },
  {
   "cell_type": "markdown",
   "metadata": {
    "colab_type": "text",
    "id": "uFfRU4moeeln"
   },
   "source": [
    "#### TRAINING A GAUSSIAN NB MODEL FOR NUMERICAL FEATURES"
   ]
  },
  {
   "cell_type": "code",
   "execution_count": 0,
   "metadata": {
    "colab": {},
    "colab_type": "code",
    "id": "6l0BUKS-em5u"
   },
   "outputs": [],
   "source": [
    "# gaussian NB for numerical features on 1% of data\n",
    "X_train_num = train[num_features]\n",
    "X_test_num = test[num_features]\n",
    "gnb1 = GaussianNB()\n",
    "gnb1.fit(X_train_num, y_train) # train\n",
    "pred1_gnb = gnb1.predict_proba(X_test_num) # predicting probabilities"
   ]
  },
  {
   "cell_type": "markdown",
   "metadata": {
    "colab_type": "text",
    "id": "qjj7Mykdg-oY"
   },
   "source": [
    "### COMBINE BOTH PREDICTORS"
   ]
  },
  {
   "cell_type": "code",
   "execution_count": 0,
   "metadata": {
    "colab": {},
    "colab_type": "code",
    "id": "RnZs0R43g-K1"
   },
   "outputs": [],
   "source": [
    "tot_prob = pred1_gnb*pred1_mnb"
   ]
  },
  {
   "cell_type": "markdown",
   "metadata": {
    "colab_type": "text",
    "id": "b_3zSp6oIIvW"
   },
   "source": [
    "### EVALUATING THE MODELS WITH MAP5"
   ]
  },
  {
   "cell_type": "code",
   "execution_count": 0,
   "metadata": {
    "colab": {},
    "colab_type": "code",
    "id": "P67OUNDWN9qM"
   },
   "outputs": [],
   "source": [
    "def map5eva(preds, actual):\n",
    "    predicted = preds.argsort(axis=1)[:, -np.arange(5)]\n",
    "    metric = 0\n",
    "    for i in range(5):\n",
    "        metric += np.sum(actual==predicted[:, i])/(i+1)\n",
    "    metric /= actual.shape[0]\n",
    "    return \"MAP@5\", -metric"
   ]
  },
  {
   "cell_type": "code",
   "execution_count": null,
   "metadata": {},
   "outputs": [],
   "source": [
    "map5eva(tot_prob, y_test)"
   ]
  }
 ],
 "metadata": {
  "colab": {
   "collapsed_sections": [],
   "machine_shape": "hm",
   "name": "NB.ipynb",
   "provenance": []
  },
  "kernelspec": {
   "display_name": "Python 3",
   "language": "python",
   "name": "python3"
  },
  "language_info": {
   "codemirror_mode": {
    "name": "ipython",
    "version": 3
   },
   "file_extension": ".py",
   "mimetype": "text/x-python",
   "name": "python",
   "nbconvert_exporter": "python",
   "pygments_lexer": "ipython3",
   "version": "3.7.4"
  }
 },
 "nbformat": 4,
 "nbformat_minor": 1
}
