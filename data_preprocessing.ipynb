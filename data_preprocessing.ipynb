{
 "cells": [
  {
   "cell_type": "code",
   "execution_count": 0,
   "metadata": {
    "colab": {
     "base_uri": "https://localhost:8080/",
     "height": 183
    },
    "colab_type": "code",
    "id": "f6E9TDQXM6hn",
    "outputId": "06a2393d-4b0c-48bc-d2f9-595e48d2c3eb"
   },
   "outputs": [
    {
     "name": "stderr",
     "output_type": "stream",
     "text": [
      "/usr/local/lib/python3.6/dist-packages/statsmodels/tools/_testing.py:19: FutureWarning: pandas.util.testing is deprecated. Use the functions in the public API at pandas.testing instead.\n",
      "  import pandas.util.testing as tm\n"
     ]
    },
    {
     "name": "stdout",
     "output_type": "stream",
     "text": [
      "Collecting scikit-multilearn\n",
      "\u001b[?25l  Downloading https://files.pythonhosted.org/packages/bb/1f/e6ff649c72a1cdf2c7a1d31eb21705110ce1c5d3e7e26b2cc300e1637272/scikit_multilearn-0.2.0-py3-none-any.whl (89kB)\n",
      "\r",
      "\u001b[K     |███▊                            | 10kB 19.5MB/s eta 0:00:01\r",
      "\u001b[K     |███████▍                        | 20kB 1.7MB/s eta 0:00:01\r",
      "\u001b[K     |███████████                     | 30kB 2.3MB/s eta 0:00:01\r",
      "\u001b[K     |██████████████▊                 | 40kB 2.5MB/s eta 0:00:01\r",
      "\u001b[K     |██████████████████▍             | 51kB 2.0MB/s eta 0:00:01\r",
      "\u001b[K     |██████████████████████          | 61kB 2.2MB/s eta 0:00:01\r",
      "\u001b[K     |█████████████████████████▊      | 71kB 2.4MB/s eta 0:00:01\r",
      "\u001b[K     |█████████████████████████████▍  | 81kB 2.7MB/s eta 0:00:01\r",
      "\u001b[K     |████████████████████████████████| 92kB 2.4MB/s \n",
      "\u001b[?25hInstalling collected packages: scikit-multilearn\n",
      "Successfully installed scikit-multilearn-0.2.0\n",
      "Requirement already satisfied: xgboost in /usr/local/lib/python3.6/dist-packages (0.90)\n",
      "Requirement already satisfied: scipy in /usr/local/lib/python3.6/dist-packages (from xgboost) (1.4.1)\n",
      "Requirement already satisfied: numpy in /usr/local/lib/python3.6/dist-packages (from xgboost) (1.18.3)\n"
     ]
    }
   ],
   "source": [
    "import pandas as pd\n",
    "import matplotlib.pyplot as plt \n",
    "import numpy as np\n",
    "import seaborn as sns\n",
    "from scipy import stats\n",
    "from datetime import datetime\n",
    "from scipy.stats import pearsonr\n",
    "import re\n",
    "from sklearn.decomposition import PCA\n",
    "\n",
    "import seaborn as sns\n",
    "\n",
    "from scipy import sparse\n",
    "from sklearn.model_selection import train_test_split\n",
    "from sklearn.ensemble import ExtraTreesClassifier\n"
   ]
  },
  {
   "cell_type": "code",
   "execution_count": 0,
   "metadata": {
    "colab": {},
    "colab_type": "code",
    "id": "e6x4PDBN-nNx"
   },
   "outputs": [],
   "source": [
    "data = pd.read_csv('/content/gdrive/My Drive/DM-group/train.zip', compression='zip', header=0, sep=',', quotechar='\"')\n"
   ]
  },
  {
   "cell_type": "code",
   "execution_count": 1,
   "metadata": {
    "colab": {
     "base_uri": "https://localhost:8080/",
     "height": 533
    },
    "colab_type": "code",
    "id": "UM1_hle9eM5y",
    "outputId": "1004e625-4484-43f6-d939-73d0d0b1be37"
   },
   "outputs": [],
   "source": [
    "data = data.sample(frac=0.1, replace='False')\n",
    "data.reset_index(inplace=True, drop=True)\n",
    "data.info()"
   ]
  },
  {
   "cell_type": "code",
   "execution_count": 0,
   "metadata": {
    "colab": {},
    "colab_type": "code",
    "id": "mgXH9iybuMa4"
   },
   "outputs": [],
   "source": [
    "# we delete the rows with srch_ci and srch_co NaN\n",
    "(data.srch_ci[data[\"srch_ci\"].isnull()].index)\n",
    "indexes = (data.srch_ci[data[\"srch_co\"].isnull()].index)\n",
    "data = data.drop(indexes)"
   ]
  },
  {
   "cell_type": "code",
   "execution_count": 0,
   "metadata": {
    "colab": {},
    "colab_type": "code",
    "id": "aI7yDHo4w0zE"
   },
   "outputs": [],
   "source": [
    "def is_weekend(ci, co):\n",
    "    ci_wd = ci.weekday()\n",
    "    co_wd = co.weekday()\n",
    "    li = list(range(ci_wd, co_wd+1))\n",
    "    if 5 in li and 6 in li:\n",
    "        return 1\n",
    "    else:\n",
    "        return 0"
   ]
  },
  {
   "cell_type": "code",
   "execution_count": 0,
   "metadata": {
    "colab": {},
    "colab_type": "code",
    "id": "F32Jvrb3tMr7"
   },
   "outputs": [],
   "source": [
    "# Transform dates into datetime to extract month and day\n",
    "data[\"date_time\"] = pd.to_datetime(data[\"date_time\"], errors=\"coerce\")\n",
    "data[\"booking_month\"] = data.date_time.apply(lambda x: x.month)\n",
    "data[\"booking_day\"] = data.date_time.apply(lambda x: x.day)\n",
    "\n",
    "\n",
    "data[\"srch_ci\"] = pd.to_datetime(data[\"srch_ci\"], errors=\"coerce\")\n",
    "data[\"srch_co\"] = pd.to_datetime(data[\"srch_co\"], errors=\"coerce\")\n",
    "\n",
    "data[\"ci_month\"] = data.srch_ci.apply(lambda x: x.month)\n",
    "data[\"co_month\"] = data.srch_co.apply(lambda x: x.month)\n",
    "data[\"ci_day\"] = data.srch_ci.apply(lambda x: x.day)\n",
    "data[\"co_day\"] = data.srch_co.apply(lambda x: x.day)\n",
    "\n",
    "# Create new features\n",
    "data[\"duration\"] = data.apply(lambda row: (row.srch_co - row.srch_ci).days, axis=1)\n",
    "data[\"remaining_days\"] = data.apply(lambda x: (x.srch_ci - x.date_time).days, axis=1 )\n",
    "data[\"is_weekend\"] = data.apply(lambda row: is_weekend(row.srch_ci, row.srch_co), axis=1)\n",
    "\n",
    "# Delete original date features\n",
    "data = data.drop(columns=[\"date_time\", \"srch_ci\", \"srch_co\"])"
   ]
  },
  {
   "cell_type": "code",
   "execution_count": null,
   "metadata": {},
   "outputs": [],
   "source": [
    "data.to_csv(\"1_training_preprocessed.csv\", index=False)"
   ]
  },
  {
   "cell_type": "markdown",
   "metadata": {
    "colab_type": "text",
    "id": "Nv6WyjgH3cvT"
   },
   "source": [
    "### IMPUTING MISSING VALUES OF ORIG_DEST_DISTANCE"
   ]
  },
  {
   "cell_type": "code",
   "execution_count": 0,
   "metadata": {
    "colab": {},
    "colab_type": "code",
    "id": "nqcfipeTuqsT"
   },
   "outputs": [],
   "source": [
    "cols2keep=['site_name','posa_continent','user_location_country',\n",
    " 'user_location_region',\n",
    " 'user_location_city',\n",
    " 'orig_destination_distance',\n",
    " 'hotel_continent',\n",
    " 'hotel_country']\n",
    "\n",
    "from sklearn.experimental import enable_iterative_imputer\n",
    "from sklearn.ensemble import RandomForestRegressor\n",
    "from sklearn.impute import IterativeImputer\n",
    "\n",
    "#Define predictor\n",
    "predictor = RandomForestRegressor(bootstrap= True,\n",
    " max_depth= 100,\n",
    " max_features= 3,\n",
    " min_samples_leaf= 3,\n",
    " min_samples_split= 8,\n",
    " n_estimators= 300)\n",
    "\n",
    "#Define imputation function\n",
    "imp = IterativeImputer(max_iter=10, estimator=predictor)\n"
   ]
  },
  {
   "cell_type": "code",
   "execution_count": 2,
   "metadata": {
    "colab": {
     "base_uri": "https://localhost:8080/",
     "height": 650
    },
    "colab_type": "code",
    "id": "3bhviyoE38MC",
    "outputId": "349be2bb-66b9-4e49-85be-3ed31c196dc7"
   },
   "outputs": [],
   "source": [
    "#Fit the model which will be used to predict missing values later and fill the missing values\n",
    "chunksize = 100000\n",
    "count = 0\n",
    "train = pd.read_csv(base_dir + \"1_training_preprocessed.csv\", chunksize=chunksize, usecols=cols2keep)\n",
    "for chunk in train:\n",
    "    imp.fit(chunk)\n",
    "    count = count + chunksize\n",
    "    print('%d rows trained' % count)"
   ]
  },
  {
   "cell_type": "code",
   "execution_count": 3,
   "metadata": {
    "colab": {
     "base_uri": "https://localhost:8080/",
     "height": 650
    },
    "colab_type": "code",
    "id": "hsCc03v86Htd",
    "outputId": "33d2762e-1a2a-49d3-df19-fcc736dcc478"
   },
   "outputs": [],
   "source": [
    "#Predict the missing values\n",
    "full=pd.DataFrame()\n",
    "count = 0\n",
    "train = pd.read_csv(base_dir + \"10_training_preprocessed.csv\", chunksize=chunksize, usecols=cols2keep)\n",
    "for chunk in train:\n",
    "  chunk=pd.DataFrame(np.round(imp.transform(chunk), 4))\n",
    "  full=full.append(chunk)\n",
    "  count = count + chunksize\n",
    "  print('%d rows predicted' % count)"
   ]
  },
  {
   "cell_type": "code",
   "execution_count": 0,
   "metadata": {
    "colab": {
     "base_uri": "https://localhost:8080/",
     "height": 33
    },
    "colab_type": "code",
    "id": "GyURIeSu6Tdw",
    "outputId": "fdb162ea-c87a-4394-c502-87a8f583585c"
   },
   "outputs": [
    {
     "data": {
      "text/plain": [
       "(3762223, 8)"
      ]
     },
     "execution_count": 23,
     "metadata": {
      "tags": []
     },
     "output_type": "execute_result"
    }
   ],
   "source": [
    "full.shape"
   ]
  },
  {
   "cell_type": "code",
   "execution_count": 0,
   "metadata": {
    "colab": {
     "base_uri": "https://localhost:8080/",
     "height": 47
    },
    "colab_type": "code",
    "id": "KJiNHbE-6WGn",
    "outputId": "c1db09c8-1ea4-423b-972c-1612b0cc9801"
   },
   "outputs": [
    {
     "data": {
      "text/html": [
       "<div>\n",
       "<style scoped>\n",
       "    .dataframe tbody tr th:only-of-type {\n",
       "        vertical-align: middle;\n",
       "    }\n",
       "\n",
       "    .dataframe tbody tr th {\n",
       "        vertical-align: top;\n",
       "    }\n",
       "\n",
       "    .dataframe thead th {\n",
       "        text-align: right;\n",
       "    }\n",
       "</style>\n",
       "<table border=\"1\" class=\"dataframe\">\n",
       "  <thead>\n",
       "    <tr style=\"text-align: right;\">\n",
       "      <th></th>\n",
       "      <th>0</th>\n",
       "      <th>1</th>\n",
       "      <th>2</th>\n",
       "      <th>3</th>\n",
       "      <th>4</th>\n",
       "      <th>5</th>\n",
       "      <th>6</th>\n",
       "      <th>7</th>\n",
       "    </tr>\n",
       "  </thead>\n",
       "  <tbody>\n",
       "  </tbody>\n",
       "</table>\n",
       "</div>"
      ],
      "text/plain": [
       "Empty DataFrame\n",
       "Columns: [0, 1, 2, 3, 4, 5, 6, 7]\n",
       "Index: []"
      ]
     },
     "execution_count": 24,
     "metadata": {
      "tags": []
     },
     "output_type": "execute_result"
    }
   ],
   "source": [
    "#Check if missing values are left\n",
    "full[full.iloc[:,7].isna()]"
   ]
  },
  {
   "cell_type": "code",
   "execution_count": 0,
   "metadata": {
    "colab": {},
    "colab_type": "code",
    "id": "aJvJO2Fo6Y-o"
   },
   "outputs": [],
   "source": [
    "train_again= pd.read_csv(base_dir + \"1_training_preprocessed.csv\")\n",
    "train_again.reset_index(inplace=True)"
   ]
  },
  {
   "cell_type": "code",
   "execution_count": 0,
   "metadata": {
    "colab": {},
    "colab_type": "code",
    "id": "msEZ-dDM64Dp"
   },
   "outputs": [],
   "source": [
    "#Access the result of imputation\n",
    "#Create a copy of the training dataset, make existing distance values missing \n",
    "test=train_again.copy()\n",
    "test=test[['site_name','posa_continent','user_location_country',\n",
    " 'user_location_region',\n",
    " 'user_location_city',\n",
    " 'orig_destination_distance',\n",
    " 'hotel_continent',\n",
    " 'hotel_country']]\n",
    "test.orig_destination_distance=None"
   ]
  },
  {
   "cell_type": "code",
   "execution_count": 0,
   "metadata": {
    "colab": {},
    "colab_type": "code",
    "id": "Utj-bjFk644t"
   },
   "outputs": [],
   "source": [
    "#See what would have been predicted for non missing distances\n",
    "full_test=pd.DataFrame(np.round(imp.transform(test),4))"
   ]
  },
  {
   "cell_type": "code",
   "execution_count": 0,
   "metadata": {
    "colab": {
     "base_uri": "https://localhost:8080/",
     "height": 50
    },
    "colab_type": "code",
    "id": "RGh24BK568Rb",
    "outputId": "52f37354-b4f8-45b5-9dad-d3ac454adaa3"
   },
   "outputs": [
    {
     "name": "stderr",
     "output_type": "stream",
     "text": [
      "/usr/local/lib/python3.6/dist-packages/ipykernel_launcher.py:4: UserWarning: Boolean Series key will be reindexed to match DataFrame index.\n",
      "  after removing the cwd from sys.path.\n"
     ]
    }
   ],
   "source": [
    "#For those distances that were not missing, merge original destinations and predicted destinations\n",
    "a=pd.DataFrame(full.iloc[:,5])\n",
    "b=pd.DataFrame(full_test.iloc[:,5])\n",
    "c=a.merge(b, left_index=True, right_index=True)\n",
    "d=c[train_again.orig_destination_distance.isnull()==False]"
   ]
  },
  {
   "cell_type": "code",
   "execution_count": 0,
   "metadata": {
    "colab": {},
    "colab_type": "code",
    "id": "ljxmXD-k7BIU"
   },
   "outputs": [],
   "source": [
    "#Merge the imputed data with the one original dataset\n",
    "train_again=train_again.reset_index(drop=True)"
   ]
  },
  {
   "cell_type": "code",
   "execution_count": 0,
   "metadata": {
    "colab": {},
    "colab_type": "code",
    "id": "KVy0qLir7Bze"
   },
   "outputs": [],
   "source": [
    "imputed_distances = (full.iloc[:,5]).reset_index(drop=True)\n",
    "data[\"orig_destination_distance\"] = imputed_distances"
   ]
  },
  {
   "cell_type": "code",
   "execution_count": 0,
   "metadata": {
    "colab": {},
    "colab_type": "code",
    "id": "THslFMhE5odR"
   },
   "outputs": [],
   "source": [
    "data.to_csv(\"1_training_imputed.csv\", index=False)"
   ]
  },
  {
   "cell_type": "markdown",
   "metadata": {},
   "source": [
    "## Reduce dimensionality of destination latent features (PCA)"
   ]
  },
  {
   "cell_type": "code",
   "execution_count": null,
   "metadata": {},
   "outputs": [],
   "source": [
    "dest = pd.read_csv(base_dir + \"destinations.csv\")"
   ]
  },
  {
   "cell_type": "code",
   "execution_count": null,
   "metadata": {},
   "outputs": [],
   "source": [
    "X = dest.iloc[:,1:]\n",
    "pca = PCA().fit(X)\n",
    "plt.plot(np.cumsum(pca.explained_variance_ratio_))\n",
    "plt.xlabel('number of components')\n",
    "plt.ylabel('cumulative explained variance');"
   ]
  },
  {
   "cell_type": "code",
   "execution_count": null,
   "metadata": {},
   "outputs": [],
   "source": [
    "pca = PCA(n_components=40)\n",
    "X = pca.fit_transform(X)\n",
    "X.shape"
   ]
  },
  {
   "cell_type": "code",
   "execution_count": null,
   "metadata": {},
   "outputs": [],
   "source": [
    "pd.DataFrame(X).to_csv(\"destinations_pca.csv\")"
   ]
  },
  {
   "cell_type": "markdown",
   "metadata": {},
   "source": [
    "## Merge latent destination features with original ones"
   ]
  },
  {
   "cell_type": "code",
   "execution_count": 5,
   "metadata": {
    "colab": {
     "base_uri": "https://localhost:8080/",
     "height": 817
    },
    "colab_type": "code",
    "id": "eTt0uabVX5fY",
    "outputId": "8454a607-ba51-4ada-b57d-fb1acc025fa9"
   },
   "outputs": [],
   "source": [
    "dest = pd.read_csv(base_dir + \"destinations_pca.csv\")"
   ]
  },
  {
   "cell_type": "code",
   "execution_count": 0,
   "metadata": {
    "colab": {
     "base_uri": "https://localhost:8080/",
     "height": 217
    },
    "colab_type": "code",
    "id": "3i38b8u5bIJU",
    "outputId": "fab6dee8-1c2d-449c-a200-60c5912fc97d"
   },
   "outputs": [
    {
     "data": {
      "text/html": [
       "<div>\n",
       "<style scoped>\n",
       "    .dataframe tbody tr th:only-of-type {\n",
       "        vertical-align: middle;\n",
       "    }\n",
       "\n",
       "    .dataframe tbody tr th {\n",
       "        vertical-align: top;\n",
       "    }\n",
       "\n",
       "    .dataframe thead th {\n",
       "        text-align: right;\n",
       "    }\n",
       "</style>\n",
       "<table border=\"1\" class=\"dataframe\">\n",
       "  <thead>\n",
       "    <tr style=\"text-align: right;\">\n",
       "      <th></th>\n",
       "      <th>site_name</th>\n",
       "      <th>posa_continent</th>\n",
       "      <th>user_location_country</th>\n",
       "      <th>user_location_region</th>\n",
       "      <th>user_location_city</th>\n",
       "      <th>orig_destination_distance</th>\n",
       "      <th>user_id</th>\n",
       "      <th>is_mobile</th>\n",
       "      <th>is_package</th>\n",
       "      <th>channel</th>\n",
       "      <th>srch_adults_cnt</th>\n",
       "      <th>srch_children_cnt</th>\n",
       "      <th>srch_rm_cnt</th>\n",
       "      <th>srch_destination_id</th>\n",
       "      <th>srch_destination_type_id</th>\n",
       "      <th>is_booking</th>\n",
       "      <th>cnt</th>\n",
       "      <th>hotel_continent</th>\n",
       "      <th>hotel_country</th>\n",
       "      <th>hotel_market</th>\n",
       "      <th>hotel_cluster</th>\n",
       "      <th>booking_month</th>\n",
       "      <th>booking_day</th>\n",
       "      <th>ci_month</th>\n",
       "      <th>co_month</th>\n",
       "      <th>ci_day</th>\n",
       "      <th>co_day</th>\n",
       "      <th>duration</th>\n",
       "      <th>remaining_days</th>\n",
       "      <th>0</th>\n",
       "      <th>1</th>\n",
       "      <th>2</th>\n",
       "      <th>3</th>\n",
       "      <th>4</th>\n",
       "      <th>5</th>\n",
       "      <th>6</th>\n",
       "      <th>7</th>\n",
       "      <th>8</th>\n",
       "      <th>9</th>\n",
       "      <th>10</th>\n",
       "      <th>11</th>\n",
       "      <th>12</th>\n",
       "      <th>13</th>\n",
       "      <th>14</th>\n",
       "      <th>15</th>\n",
       "      <th>16</th>\n",
       "      <th>17</th>\n",
       "      <th>18</th>\n",
       "      <th>19</th>\n",
       "      <th>20</th>\n",
       "      <th>21</th>\n",
       "      <th>22</th>\n",
       "      <th>23</th>\n",
       "      <th>24</th>\n",
       "      <th>25</th>\n",
       "      <th>26</th>\n",
       "      <th>27</th>\n",
       "      <th>28</th>\n",
       "      <th>29</th>\n",
       "      <th>30</th>\n",
       "      <th>31</th>\n",
       "      <th>32</th>\n",
       "      <th>33</th>\n",
       "      <th>34</th>\n",
       "      <th>35</th>\n",
       "      <th>36</th>\n",
       "      <th>37</th>\n",
       "      <th>38</th>\n",
       "      <th>39</th>\n",
       "    </tr>\n",
       "  </thead>\n",
       "  <tbody>\n",
       "    <tr>\n",
       "      <th>0</th>\n",
       "      <td>2</td>\n",
       "      <td>3</td>\n",
       "      <td>66</td>\n",
       "      <td>337</td>\n",
       "      <td>1794</td>\n",
       "      <td>1610.0578</td>\n",
       "      <td>44129</td>\n",
       "      <td>0</td>\n",
       "      <td>1</td>\n",
       "      <td>0</td>\n",
       "      <td>2</td>\n",
       "      <td>1</td>\n",
       "      <td>1</td>\n",
       "      <td>12257</td>\n",
       "      <td>6</td>\n",
       "      <td>0</td>\n",
       "      <td>1</td>\n",
       "      <td>4</td>\n",
       "      <td>51</td>\n",
       "      <td>1509</td>\n",
       "      <td>51</td>\n",
       "      <td>7</td>\n",
       "      <td>10</td>\n",
       "      <td>8.0</td>\n",
       "      <td>8.0</td>\n",
       "      <td>6.0</td>\n",
       "      <td>10.0</td>\n",
       "      <td>4.0</td>\n",
       "      <td>26.0</td>\n",
       "      <td>1.191585</td>\n",
       "      <td>0.744867</td>\n",
       "      <td>-0.469529</td>\n",
       "      <td>0.047483</td>\n",
       "      <td>0.093242</td>\n",
       "      <td>0.264022</td>\n",
       "      <td>0.170370</td>\n",
       "      <td>-0.116922</td>\n",
       "      <td>-0.039931</td>\n",
       "      <td>-0.082221</td>\n",
       "      <td>0.173404</td>\n",
       "      <td>-0.173956</td>\n",
       "      <td>-0.165731</td>\n",
       "      <td>-0.078212</td>\n",
       "      <td>-0.001044</td>\n",
       "      <td>-0.040452</td>\n",
       "      <td>-0.022311</td>\n",
       "      <td>-0.024057</td>\n",
       "      <td>-0.009754</td>\n",
       "      <td>-0.023704</td>\n",
       "      <td>-0.014160</td>\n",
       "      <td>-0.088971</td>\n",
       "      <td>-0.061519</td>\n",
       "      <td>-0.059767</td>\n",
       "      <td>-0.031309</td>\n",
       "      <td>0.056486</td>\n",
       "      <td>0.075728</td>\n",
       "      <td>-0.102674</td>\n",
       "      <td>-0.005740</td>\n",
       "      <td>0.009403</td>\n",
       "      <td>-0.034844</td>\n",
       "      <td>-0.001772</td>\n",
       "      <td>-0.100779</td>\n",
       "      <td>0.058327</td>\n",
       "      <td>-0.045351</td>\n",
       "      <td>-0.000418</td>\n",
       "      <td>-0.095607</td>\n",
       "      <td>-0.018624</td>\n",
       "      <td>0.075043</td>\n",
       "      <td>-0.024062</td>\n",
       "    </tr>\n",
       "    <tr>\n",
       "      <th>1</th>\n",
       "      <td>11</td>\n",
       "      <td>3</td>\n",
       "      <td>205</td>\n",
       "      <td>330</td>\n",
       "      <td>34157</td>\n",
       "      <td>1582.3503</td>\n",
       "      <td>636659</td>\n",
       "      <td>0</td>\n",
       "      <td>1</td>\n",
       "      <td>5</td>\n",
       "      <td>2</td>\n",
       "      <td>0</td>\n",
       "      <td>1</td>\n",
       "      <td>12008</td>\n",
       "      <td>1</td>\n",
       "      <td>0</td>\n",
       "      <td>1</td>\n",
       "      <td>2</td>\n",
       "      <td>50</td>\n",
       "      <td>686</td>\n",
       "      <td>30</td>\n",
       "      <td>10</td>\n",
       "      <td>18</td>\n",
       "      <td>2.0</td>\n",
       "      <td>3.0</td>\n",
       "      <td>21.0</td>\n",
       "      <td>7.0</td>\n",
       "      <td>14.0</td>\n",
       "      <td>125.0</td>\n",
       "      <td>0.783531</td>\n",
       "      <td>0.158181</td>\n",
       "      <td>0.158007</td>\n",
       "      <td>-0.104123</td>\n",
       "      <td>-0.103367</td>\n",
       "      <td>0.018827</td>\n",
       "      <td>-0.108281</td>\n",
       "      <td>-0.033807</td>\n",
       "      <td>-0.012767</td>\n",
       "      <td>0.018509</td>\n",
       "      <td>0.118418</td>\n",
       "      <td>0.025077</td>\n",
       "      <td>0.079333</td>\n",
       "      <td>0.018046</td>\n",
       "      <td>0.119741</td>\n",
       "      <td>0.023670</td>\n",
       "      <td>-0.077435</td>\n",
       "      <td>-0.192493</td>\n",
       "      <td>0.143602</td>\n",
       "      <td>0.115970</td>\n",
       "      <td>-0.098889</td>\n",
       "      <td>0.095615</td>\n",
       "      <td>0.199725</td>\n",
       "      <td>0.181496</td>\n",
       "      <td>-0.047639</td>\n",
       "      <td>-0.172091</td>\n",
       "      <td>-0.021685</td>\n",
       "      <td>-0.028080</td>\n",
       "      <td>0.086374</td>\n",
       "      <td>0.060094</td>\n",
       "      <td>0.004900</td>\n",
       "      <td>-0.019996</td>\n",
       "      <td>-0.020920</td>\n",
       "      <td>-0.056257</td>\n",
       "      <td>-0.026258</td>\n",
       "      <td>-0.034102</td>\n",
       "      <td>0.033088</td>\n",
       "      <td>0.007355</td>\n",
       "      <td>-0.013114</td>\n",
       "      <td>0.031350</td>\n",
       "    </tr>\n",
       "    <tr>\n",
       "      <th>2</th>\n",
       "      <td>2</td>\n",
       "      <td>3</td>\n",
       "      <td>66</td>\n",
       "      <td>153</td>\n",
       "      <td>25263</td>\n",
       "      <td>5819.9701</td>\n",
       "      <td>205466</td>\n",
       "      <td>0</td>\n",
       "      <td>0</td>\n",
       "      <td>2</td>\n",
       "      <td>2</td>\n",
       "      <td>0</td>\n",
       "      <td>1</td>\n",
       "      <td>8275</td>\n",
       "      <td>1</td>\n",
       "      <td>0</td>\n",
       "      <td>1</td>\n",
       "      <td>4</td>\n",
       "      <td>196</td>\n",
       "      <td>2027</td>\n",
       "      <td>61</td>\n",
       "      <td>8</td>\n",
       "      <td>5</td>\n",
       "      <td>8.0</td>\n",
       "      <td>8.0</td>\n",
       "      <td>19.0</td>\n",
       "      <td>20.0</td>\n",
       "      <td>1.0</td>\n",
       "      <td>13.0</td>\n",
       "      <td>0.345613</td>\n",
       "      <td>0.317985</td>\n",
       "      <td>-0.501484</td>\n",
       "      <td>0.058383</td>\n",
       "      <td>0.123818</td>\n",
       "      <td>0.004131</td>\n",
       "      <td>-0.210061</td>\n",
       "      <td>0.062186</td>\n",
       "      <td>-0.111506</td>\n",
       "      <td>0.006034</td>\n",
       "      <td>0.068205</td>\n",
       "      <td>-0.204644</td>\n",
       "      <td>-0.123717</td>\n",
       "      <td>-0.013068</td>\n",
       "      <td>-0.007315</td>\n",
       "      <td>-0.022657</td>\n",
       "      <td>-0.169726</td>\n",
       "      <td>-0.027370</td>\n",
       "      <td>-0.046971</td>\n",
       "      <td>-0.060071</td>\n",
       "      <td>-0.030012</td>\n",
       "      <td>0.104057</td>\n",
       "      <td>0.013033</td>\n",
       "      <td>0.014581</td>\n",
       "      <td>-0.100116</td>\n",
       "      <td>0.006442</td>\n",
       "      <td>0.045041</td>\n",
       "      <td>-0.050332</td>\n",
       "      <td>0.074114</td>\n",
       "      <td>0.019229</td>\n",
       "      <td>-0.108631</td>\n",
       "      <td>0.030677</td>\n",
       "      <td>0.013691</td>\n",
       "      <td>0.113369</td>\n",
       "      <td>0.121182</td>\n",
       "      <td>-0.063018</td>\n",
       "      <td>0.067872</td>\n",
       "      <td>-0.010622</td>\n",
       "      <td>-0.132900</td>\n",
       "      <td>0.071599</td>\n",
       "    </tr>\n",
       "    <tr>\n",
       "      <th>3</th>\n",
       "      <td>24</td>\n",
       "      <td>2</td>\n",
       "      <td>3</td>\n",
       "      <td>70</td>\n",
       "      <td>26750</td>\n",
       "      <td>777.6096</td>\n",
       "      <td>242199</td>\n",
       "      <td>0</td>\n",
       "      <td>1</td>\n",
       "      <td>7</td>\n",
       "      <td>2</td>\n",
       "      <td>0</td>\n",
       "      <td>1</td>\n",
       "      <td>8253</td>\n",
       "      <td>1</td>\n",
       "      <td>0</td>\n",
       "      <td>1</td>\n",
       "      <td>6</td>\n",
       "      <td>70</td>\n",
       "      <td>19</td>\n",
       "      <td>57</td>\n",
       "      <td>2</td>\n",
       "      <td>19</td>\n",
       "      <td>3.0</td>\n",
       "      <td>3.0</td>\n",
       "      <td>3.0</td>\n",
       "      <td>8.0</td>\n",
       "      <td>5.0</td>\n",
       "      <td>11.0</td>\n",
       "      <td>0.917121</td>\n",
       "      <td>-0.456688</td>\n",
       "      <td>-0.380253</td>\n",
       "      <td>0.217810</td>\n",
       "      <td>-0.047301</td>\n",
       "      <td>0.168425</td>\n",
       "      <td>-0.142490</td>\n",
       "      <td>0.095163</td>\n",
       "      <td>0.032296</td>\n",
       "      <td>-0.019697</td>\n",
       "      <td>-0.060303</td>\n",
       "      <td>-0.114995</td>\n",
       "      <td>-0.092906</td>\n",
       "      <td>0.059910</td>\n",
       "      <td>0.044069</td>\n",
       "      <td>-0.034655</td>\n",
       "      <td>-0.079383</td>\n",
       "      <td>-0.098699</td>\n",
       "      <td>0.095721</td>\n",
       "      <td>-0.050602</td>\n",
       "      <td>0.052770</td>\n",
       "      <td>0.010083</td>\n",
       "      <td>-0.056300</td>\n",
       "      <td>-0.045835</td>\n",
       "      <td>0.053675</td>\n",
       "      <td>-0.051244</td>\n",
       "      <td>0.043089</td>\n",
       "      <td>-0.033936</td>\n",
       "      <td>0.050093</td>\n",
       "      <td>0.063033</td>\n",
       "      <td>0.042602</td>\n",
       "      <td>-0.030699</td>\n",
       "      <td>0.044762</td>\n",
       "      <td>-0.031511</td>\n",
       "      <td>-0.027542</td>\n",
       "      <td>0.011744</td>\n",
       "      <td>0.071806</td>\n",
       "      <td>-0.049978</td>\n",
       "      <td>0.029836</td>\n",
       "      <td>0.019557</td>\n",
       "    </tr>\n",
       "    <tr>\n",
       "      <th>4</th>\n",
       "      <td>2</td>\n",
       "      <td>3</td>\n",
       "      <td>66</td>\n",
       "      <td>226</td>\n",
       "      <td>37619</td>\n",
       "      <td>5640.1696</td>\n",
       "      <td>166051</td>\n",
       "      <td>0</td>\n",
       "      <td>1</td>\n",
       "      <td>9</td>\n",
       "      <td>2</td>\n",
       "      <td>0</td>\n",
       "      <td>1</td>\n",
       "      <td>11917</td>\n",
       "      <td>1</td>\n",
       "      <td>0</td>\n",
       "      <td>2</td>\n",
       "      <td>0</td>\n",
       "      <td>140</td>\n",
       "      <td>59</td>\n",
       "      <td>92</td>\n",
       "      <td>12</td>\n",
       "      <td>26</td>\n",
       "      <td>9.0</td>\n",
       "      <td>9.0</td>\n",
       "      <td>5.0</td>\n",
       "      <td>11.0</td>\n",
       "      <td>6.0</td>\n",
       "      <td>252.0</td>\n",
       "      <td>-0.022336</td>\n",
       "      <td>0.467553</td>\n",
       "      <td>-0.026043</td>\n",
       "      <td>0.197194</td>\n",
       "      <td>-0.037272</td>\n",
       "      <td>-0.050407</td>\n",
       "      <td>0.014176</td>\n",
       "      <td>0.103557</td>\n",
       "      <td>0.199025</td>\n",
       "      <td>-0.013037</td>\n",
       "      <td>-0.030791</td>\n",
       "      <td>-0.016361</td>\n",
       "      <td>0.059263</td>\n",
       "      <td>-0.168816</td>\n",
       "      <td>0.059814</td>\n",
       "      <td>-0.106974</td>\n",
       "      <td>0.152623</td>\n",
       "      <td>-0.066421</td>\n",
       "      <td>-0.119054</td>\n",
       "      <td>0.036888</td>\n",
       "      <td>-0.089477</td>\n",
       "      <td>-0.039241</td>\n",
       "      <td>0.019853</td>\n",
       "      <td>-0.062358</td>\n",
       "      <td>0.065853</td>\n",
       "      <td>-0.054756</td>\n",
       "      <td>-0.061903</td>\n",
       "      <td>0.011048</td>\n",
       "      <td>-0.035871</td>\n",
       "      <td>0.064005</td>\n",
       "      <td>0.142337</td>\n",
       "      <td>-0.102710</td>\n",
       "      <td>-0.102408</td>\n",
       "      <td>-0.099054</td>\n",
       "      <td>-0.031315</td>\n",
       "      <td>0.073065</td>\n",
       "      <td>0.007605</td>\n",
       "      <td>0.070549</td>\n",
       "      <td>-0.053587</td>\n",
       "      <td>-0.019694</td>\n",
       "    </tr>\n",
       "  </tbody>\n",
       "</table>\n",
       "</div>"
      ],
      "text/plain": [
       "   site_name  posa_continent  ...        38        39\n",
       "0          2               3  ...  0.075043 -0.024062\n",
       "1         11               3  ... -0.013114  0.031350\n",
       "2          2               3  ... -0.132900  0.071599\n",
       "3         24               2  ...  0.029836  0.019557\n",
       "4          2               3  ... -0.053587 -0.019694\n",
       "\n",
       "[5 rows x 69 columns]"
      ]
     },
     "execution_count": 42,
     "metadata": {
      "tags": []
     },
     "output_type": "execute_result"
    }
   ],
   "source": [
    "data_tot = data.merge(dest, on='srch_destination_id', how='left')\n",
    "data_tot.head()"
   ]
  },
  {
   "cell_type": "code",
   "execution_count": 0,
   "metadata": {
    "colab": {},
    "colab_type": "code",
    "id": "i7LVZX5NT634"
   },
   "outputs": [],
   "source": [
    "data_tot = data_tot.drop(columns=[\"srch_destination_id\", \"srch_destination_type_id\"])"
   ]
  },
  {
   "cell_type": "code",
   "execution_count": 0,
   "metadata": {
    "colab": {},
    "colab_type": "code",
    "id": "Mub84kyEbl87"
   },
   "outputs": [],
   "source": [
    "# data_tot = data_tot.drop(columns=[\"srch_destination_id\", \"srch_destination_type_id\"])\n",
    "data_tot.columns = ['site_name', 'posa_continent', 'user_location_country',\n",
    "       'user_location_region', 'user_location_city',\n",
    "       'orig_destination_distance', 'user_id', 'is_mobile', 'is_package',\n",
    "       'channel', 'srch_adults_cnt', 'srch_children_cnt', 'srch_rm_cnt',\n",
    "       'is_booking', 'cnt', 'hotel_continent', 'hotel_country', 'hotel_market',\n",
    "       'hotel_cluster', 'booking_month', 'booking_day', 'ci_month', 'co_month', 'ci_day',\n",
    "       'co_day', 'duration', 'remaining_days', 'dest0', 'dest1', 'dest2', 'dest3', 'dest4', 'dest5', 'dest6',\n",
    "       'dest7', 'dest8', 'dest9', 'dest10', 'dest11', 'dest12', 'dest13', 'dest14', 'dest15', 'dest16', 'dest17', 'dest18',\n",
    "       'dest19', 'dest20', 'dest21', 'dest22', 'dest23', 'dest24', 'dest25', 'dest26', 'dest27', 'dest28', 'dest29', 'dest30',\n",
    "       'dest31', 'dest32', 'dest33', 'dest34', 'dest35', 'dest36', 'dest37', 'dest38', 'dest39']"
   ]
  },
  {
   "cell_type": "code",
   "execution_count": 0,
   "metadata": {
    "colab": {
     "base_uri": "https://localhost:8080/",
     "height": 35
    },
    "colab_type": "code",
    "id": "ItAhvlSiZzXR",
    "outputId": "5b34ba98-92f4-4228-fbfd-67968d94e5db"
   },
   "outputs": [
    {
     "data": {
      "text/plain": [
       "(374623, 68)"
      ]
     },
     "execution_count": 105,
     "metadata": {
      "tags": []
     },
     "output_type": "execute_result"
    }
   ],
   "source": [
    "data_tot.shape"
   ]
  },
  {
   "cell_type": "code",
   "execution_count": 0,
   "metadata": {
    "colab": {
     "base_uri": "https://localhost:8080/",
     "height": 35
    },
    "colab_type": "code",
    "id": "Femx-0G2Y8Bi",
    "outputId": "713c1859-5185-49b3-b6e3-8dd00ffe102c"
   },
   "outputs": [
    {
     "data": {
      "text/plain": [
       "(374623, 68)"
      ]
     },
     "execution_count": 103,
     "metadata": {
      "tags": []
     },
     "output_type": "execute_result"
    }
   ],
   "source": [
    "indexess = (data_tot[data_tot[\"dest0\"].isna()]).index\n",
    "data_tot = data_tot.drop(indexess)\n",
    "data_tot.shape"
   ]
  },
  {
   "cell_type": "code",
   "execution_count": null,
   "metadata": {},
   "outputs": [],
   "source": [
    "data_tot.to_csv(\"1_training_final.csv\", index=False)"
   ]
  }
 ],
 "metadata": {
  "colab": {
   "collapsed_sections": [],
   "machine_shape": "hm",
   "name": "expedia.ipynb",
   "provenance": []
  },
  "kernelspec": {
   "display_name": "Python 3",
   "language": "python",
   "name": "python3"
  },
  "language_info": {
   "codemirror_mode": {
    "name": "ipython",
    "version": 3
   },
   "file_extension": ".py",
   "mimetype": "text/x-python",
   "name": "python",
   "nbconvert_exporter": "python",
   "pygments_lexer": "ipython3",
   "version": "3.7.4"
  }
 },
 "nbformat": 4,
 "nbformat_minor": 1
}
